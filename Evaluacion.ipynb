{
  "nbformat": 4,
  "nbformat_minor": 0,
  "metadata": {
    "colab": {
      "provenance": [],
      "authorship_tag": "ABX9TyPxdKrf5vX6kgCzl1xUUXEt",
      "include_colab_link": true
    },
    "kernelspec": {
      "name": "python3",
      "display_name": "Python 3"
    },
    "language_info": {
      "name": "python"
    }
  },
  "cells": [
    {
      "cell_type": "markdown",
      "metadata": {
        "id": "view-in-github",
        "colab_type": "text"
      },
      "source": [
        "<a href=\"https://colab.research.google.com/github/SKM-8bits/evaluacion_estructuras/blob/main/Evaluacion.ipynb\" target=\"_parent\"><img src=\"https://colab.research.google.com/assets/colab-badge.svg\" alt=\"Open In Colab\"/></a>"
      ]
    },
    {
      "cell_type": "markdown",
      "source": [
        "# Ejercicios de practica con estructuras secuenciales\n",
        "\n",
        "**Curso**: Fundamentos de programacion\n",
        "\n",
        "**Presentado por**: Samuel Kerguelen y Elias Diaz\n",
        "\n",
        "**Correo**: Samuel.kerguelenm@upb.edu.co\n",
        "\n",
        "**Fecha**: 3/10/2025\n"
      ],
      "metadata": {
        "id": "hBgVfwochvSt"
      }
    },
    {
      "cell_type": "markdown",
      "source": [
        "####Dias de la semana\n",
        "\n",
        "### Pseudocodigo\n",
        "```\n",
        "Program dias_semanas\n",
        "Start\n",
        "  Declare Real 1, 2, 3, 4, 5 ,6, 7\n",
        "  \n",
        "\n",
        "  display \"programa para saber los dias de semana\"\n",
        "  display \"ingrese dia de la semana: \"\n",
        "  if = 1:\n",
        "  display \"lunes\"\n",
        "  if = 2:\n",
        "  display \"martes\"\n",
        "  if = 3:\n",
        "  display\"miercoles\"\n",
        "  if = 4:\n",
        "   display\"jueves\"\n",
        "  if = 5:\n",
        "  display \"viernes\"\n",
        "  if = 6:\n",
        "  display \"sabado\"\n",
        "  if = 7:\n",
        "  display \"domingo\"\n",
        "  if date > 7: display \"error\"\n",
        "\n",
        "End\n",
        "```"
      ],
      "metadata": {
        "id": "ZSHL0Kq1h1eG"
      }
    },
    {
      "cell_type": "code",
      "source": [
        "#programa para saber los dias de semana\n",
        "print(\"programa para saber los dias de semana\")\n",
        "print(\"ingrese dia de la semana: \")\n",
        "date = float(input())\n",
        "if date == 1: print(\"lunes\")\n",
        "if date == 2: print(\"martes\")\n",
        "if date == 3: print(\"miercoles\")\n",
        "if date == 4: print(\"jueves\")\n",
        "if date == 5: print(\"viernes\")\n",
        "if date == 6: print(\"sabado\")\n",
        "if date == 7: print(\"domingo\")\n",
        "if date > 7: print(\"error\")"
      ],
      "metadata": {
        "colab": {
          "base_uri": "https://localhost:8080/"
        },
        "id": "QcYh9n1KsvI-",
        "outputId": "11ededdd-eb1d-42ef-edb8-3ea4632d9dc9"
      },
      "execution_count": 37,
      "outputs": [
        {
          "output_type": "stream",
          "name": "stdout",
          "text": [
            "programa para saber los dias de semana\n",
            "ingrese dia de la semana: \n",
            "9\n",
            "error\n"
          ]
        }
      ]
    },
    {
      "cell_type": "markdown",
      "source": [
        "####Evaluacion de velocidad\n",
        "\n",
        "###Pseudocodigo\n",
        "```\n",
        "Program evaluacion_velocidad\n",
        "Start\n",
        "  Declare string d, t, v\n",
        "  \n",
        "  display \" programa para saber la velocidad de un vehiculo\"\n",
        "  display \"ingrese d: \"\n",
        "  input d\n",
        "  display \"ingrese t: \"\n",
        "  input t\n",
        "\n",
        "  set v = d/t\n",
        "  if v > 33.33:\n",
        "  display \"la velocidad es demasiada rapida\"\n",
        "\n",
        "  if v < 5.56:\n",
        "  display \"la velocidad es demasiada lenta\"\n",
        "\n",
        "End"
      ],
      "metadata": {
        "id": "eRwdcBmOz9-w"
      }
    },
    {
      "cell_type": "code",
      "source": [
        "#programa de evaluacion de velocidad\n",
        "print(\"programa para poder evaluar velocidad de vehiculo\")\n",
        "d = float(input(\"ingresar d: \"))\n",
        "t = float(input(\"ingresar t: \"))\n",
        "v = d/t\n",
        "print(\"la velocidad es de :\", v)\n",
        "if v > 33.33: print(\"la velocidad es demasiada rapida\")\n",
        "if v < 5.56: print(\"la velocidad es demasiada lenta\")"
      ],
      "metadata": {
        "colab": {
          "base_uri": "https://localhost:8080/"
        },
        "id": "QCt7mgBMszqX",
        "outputId": "4e37547f-2f05-4238-a756-4c927e616795"
      },
      "execution_count": 34,
      "outputs": [
        {
          "output_type": "stream",
          "name": "stdout",
          "text": [
            "programa para poder evaluar velocidad de vehiculo\n",
            "ingresar d: 5\n",
            "ingresar t: 5\n",
            "la velocidad es de : 1.0\n",
            "la velocidad es demasiada lenta\n"
          ]
        }
      ]
    },
    {
      "cell_type": "code",
      "source": [],
      "metadata": {
        "id": "2GOUueN3xamA"
      },
      "execution_count": null,
      "outputs": []
    }
  ]
}