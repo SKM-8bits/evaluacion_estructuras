{
  "nbformat": 4,
  "nbformat_minor": 0,
  "metadata": {
    "colab": {
      "provenance": []
    },
    "kernelspec": {
      "name": "python3",
      "display_name": "Python 3"
    },
    "language_info": {
      "name": "python"
    }
  },
  "cells": [
    {
      "cell_type": "markdown",
      "source": [
        "Nombre: Elias David Diaz Salgado\n",
        "Curso: Ingenieria Mecanica\n",
        "Actividad: Examen Parcial\n",
        "Nombre: Elias David Diaz Salgado\n",
        "Email: elias.diazs@upb.edu.co\n",
        "Fecha: 3/10/25"
      ],
      "metadata": {
        "id": "EtJLxPqemCec"
      }
    },
    {
      "cell_type": "code",
      "source": [
        "\n",
        "print(\"Por favor, me podrias regalar un numero ?\")\n",
        "\n",
        "date = float(input())\n",
        "if date == 1: print(\"Lunes\")\n",
        "if date == 2: print(\"Martes\")\n",
        "if date == 3: print(\"Miercoles\")\n",
        "if date == 4: print(\"Jueves\")\n",
        "if date == 5: print(\"Viernes\")\n",
        "if date == 6: print(\"Sabado\")\n",
        "if date == 7: print(\"Domingo\")\n",
        "else : print(\"por favor, escribe un numero del 1 al 7, mensaje de error\")\n",
        "\n"
      ],
      "metadata": {
        "colab": {
          "base_uri": "https://localhost:8080/"
        },
        "id": "5vVS-WXhmK3k",
        "outputId": "83f27fae-64c2-418c-fbd6-3ab9d08d2a66"
      },
      "execution_count": 47,
      "outputs": [
        {
          "output_type": "stream",
          "name": "stdout",
          "text": [
            "Por favor, me podrias regalar un numero ?\n",
            "9\n",
            "por favor, escribe un numero del 1 al 7, de no ser asi este mensaje volvera a aparecer\n"
          ]
        }
      ]
    },
    {
      "cell_type": "markdown",
      "source": [
        "Start\n",
        "\n",
        "  Declare VL = integer\n",
        "  Declare Ttl = Integer\n",
        "\n",
        "  Display (\"ingrese el numero de latas\")\n",
        "\n",
        "  input CL\n",
        "\n",
        "  TtL = 12900\n",
        "  VL= (CL+TtL)\n",
        "  if CL > 10: VL = (VL/100)*10\n",
        "  if Cl < 30: VL = VL - 65000\n",
        "  display VL\n",
        "\n",
        "End"
      ],
      "metadata": {
        "id": "Uc63uz7Z9ZJ8"
      }
    },
    {
      "cell_type": "code",
      "source": [
        "VL = int\n",
        "Ttl = int\n",
        "print(\"ingrese el numero de latas\")\n",
        "CL = int(input())\n",
        "Ttl = 12900\n",
        "VL = (CL*Ttl)\n",
        "if CL>10: VL = VL - (VL/100)*10\n",
        "if CL>30: Vl = VL - 65020\n",
        "print(VL)\n",
        ""
      ],
      "metadata": {
        "colab": {
          "base_uri": "https://localhost:8080/"
        },
        "id": "v5uIdDZkugOm",
        "outputId": "7e1073d8-9b87-4026-a8af-6aff4d427b8c"
      },
      "execution_count": 78,
      "outputs": [
        {
          "output_type": "stream",
          "name": "stdout",
          "text": [
            "ingrese el numero de latas\n",
            "60\n",
            "761620.0\n"
          ]
        }
      ]
    },
    {
      "cell_type": "markdown",
      "source": [],
      "metadata": {
        "id": "oZhQDfgl3V99"
      }
    },
    {
      "cell_type": "code",
      "source": [],
      "metadata": {
        "id": "r0GTPM87ydwC"
      },
      "execution_count": null,
      "outputs": []
    }
  ]
}